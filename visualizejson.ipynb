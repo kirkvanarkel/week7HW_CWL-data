{
 "cells": [
  {
   "cell_type": "code",
   "execution_count": 16,
   "metadata": {},
   "outputs": [],
   "source": [
    "import os\n",
    "from glob import glob\n",
    "\n",
    "import matplotlib.pyplot as plt\n",
    "from matplotlib.backends.backend_agg import FigureCanvasAgg as FigureCanvas\n",
    "from matplotlib.figure import Figure"
   ]
  },
  {
   "cell_type": "code",
   "execution_count": 17,
   "metadata": {},
   "outputs": [],
   "source": [
    "import ujson\n",
    "import json\n",
    "\n"
   ]
  },
  {
   "cell_type": "code",
   "execution_count": 18,
   "metadata": {},
   "outputs": [],
   "source": [
    "PATH_TO_CWL_DATA = '/home/vagrant/work/week7/'\n",
    "\n",
    "EVENT = 'structured-2018-01-14-neworleans/'\n",
    "MATCH = 'structured-1515950036-4b48e4c3-4ae8-58fb-afa9-54cc65e18c51.json'\n",
    "\n",
    "PATH_TO_WW2_MAPS = '/home/vagrant/work/week6/cwl-data/maps/ww2/'\n",
    "\n",
    "MAP_IMAGES = {\n",
    "    'Aachen': 'aachen.png',\n",
    "    'Ardennes Forest': 'ardennes_forest.png',\n",
    "    'Flak Tower': 'flaktower.png',\n",
    "    'Gibraltar': 'gibraltar.png',\n",
    "    'London Docks': 'london_docks.png',\n",
    "    'Sainte Marie du Mont': 'sainte_marie_du_mont.png' ,\n",
    "    'USS Texas': 'uss_texas.png',\n",
    "    'Valkyrie': 'valkyrie.png'\n",
    "}"
   ]
  },
  {
   "cell_type": "code",
   "execution_count": 34,
   "metadata": {
    "scrolled": true
   },
   "outputs": [
    {
     "data": {
      "text/plain": [
       "'structured-1515950036-4b48e4c3-4ae8-58fb-afa9-54cc65e18c51.json'"
      ]
     },
     "execution_count": 34,
     "metadata": {},
     "output_type": "execute_result"
    }
   ],
   "source": [
    "paths = os.path.join(PATH_TO_CWL_DATA, EVENT, MATCH)\n",
    "\n",
    "with open(paths, 'r') as match_file:\n",
    "    match = json.load(match_file)\n",
    "\n",
    "mapname = match['map']\n",
    "mapname\n",
    "\n",
    "os.path.basename(MATCH)"
   ]
  },
  {
   "cell_type": "code",
   "execution_count": 20,
   "metadata": {},
   "outputs": [],
   "source": [
    "# define directories with jsons \"stuctured-2018\"\n",
    "json_dirs = glob('structured-2018*')"
   ]
  },
  {
   "cell_type": "code",
   "execution_count": 35,
   "metadata": {},
   "outputs": [],
   "source": [
    "# make this a function\n",
    "# one bad match with question mark for map\n",
    "# load match data and plot match events\n",
    "\n",
    "# loop through directories from 2018 w/ json files\n",
    "for json_dir in json_dirs:\n",
    "    imagedir = 'images_' + json_dir\n",
    "    #create new directory for each tourney\n",
    "    if not os.path.exists(imagedir):\n",
    "        os.mkdir(imagedir)\n",
    "    # define json files and loop through each directory, plotting image for each json/match    \n",
    "    json_files = glob(os.path.join(json_dir, \"*.json\"))\n",
    "    for json_file in json_files:\n",
    "        paths = os.path.join(PATH_TO_CWL_DATA, EVENT, MATCH)\n",
    "    # load each json\n",
    "        with open(paths, 'r') as match_file:\n",
    "            match = json.load(match_file)\n",
    "    # grab map name and check that it's valid\n",
    "        mapname = match['map']\n",
    "        if mapname in MAP_IMAGES:\n",
    "            map_file_name = MAP_IMAGES[mapname]\n",
    "            bckgrd_img = os.path.join(PATH_TO_WW2_MAPS, map_file_name)\n",
    "            kill_pos, death_pos, spawn_pos = {'x': [], 'y': []}, {'x': [], 'y': []}, {'x': [], 'y': []}\n",
    "            # get position data\n",
    "            events = match['events']\n",
    "            # grab kill, death, and spawn locations\n",
    "            for evt in events:\n",
    "                if evt['type'] == 'spawn':\n",
    "                    spawn_pos['x'].append( evt['data']['pos']['x'] )\n",
    "                    spawn_pos['y'].append( evt['data']['pos']['y'] )\n",
    "                if evt['type'] == 'death':\n",
    "                    kill_pos['x'].append( evt['data']['attacker']['pos']['x'] )\n",
    "                    kill_pos['y'].append( evt['data']['attacker']['pos']['y'] )\n",
    "                    death_pos['x'].append( evt['data']['pos']['x'] )\n",
    "                    death_pos['y'].append( evt['data']['pos']['y'] )\n",
    "            # create figure\n",
    "            fig = Figure() \n",
    "            FigureCanvas(fig)\n",
    "            ax = fig.subplots(1,1)\n",
    "            #fig, ax = plt.subplots(1,1)\n",
    "            fig.set_figheight(15)\n",
    "            fig.set_figwidth(15)\n",
    "            # plot map\n",
    "            map_img = plt.imread(bckgrd_img)\n",
    "            ax.imshow(map_img)\n",
    "            ax.set_facecolor((210/255.0, 210/255.0, 210/255.0))\n",
    "            # plot spawns\n",
    "            ax.scatter(spawn_pos['x'], spawn_pos['y'], color='gray')\n",
    "            # plot death events\n",
    "            ax.scatter(kill_pos['x'], kill_pos['y'], color='cyan')\n",
    "            ax.scatter(death_pos['x'], death_pos['y'], color='red')\n",
    "            # plot kill vectors\n",
    "            #for i in range( len(kill_pos['x']) ):\n",
    "            #    plt.plot([kill_pos['x'][i], death_pos['x'][i]], [kill_pos['y'][i], death_pos['y'][i]], color='white')\n",
    "            # set title\n",
    "            ax.set_title('{} ({})'.format(match['map'], match['mode']))\n",
    "            # create file name for png files\n",
    "            basename = os.path.basename(json_file)\n",
    "            noext = os.path.splitext(basename)[0]\n",
    "            imagename = noext + '.png'\n",
    "            imagefile = os.path.join(imagedir, imagename)\n",
    "            fig.savefig(imagefile)\n",
    "        else:\n",
    "            print(\"Bad mapname encountered in {}\".format(jsonfile))\n",
    "\n",
    "\n",
    "    \n"
   ]
  }
 ],
 "metadata": {
  "kernelspec": {
   "display_name": "Python 3",
   "language": "python",
   "name": "python3"
  },
  "language_info": {
   "codemirror_mode": {
    "name": "ipython",
    "version": 3
   },
   "file_extension": ".py",
   "mimetype": "text/x-python",
   "name": "python",
   "nbconvert_exporter": "python",
   "pygments_lexer": "ipython3",
   "version": "3.7.2"
  }
 },
 "nbformat": 4,
 "nbformat_minor": 2
}
